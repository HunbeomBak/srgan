{
 "cells": [
  {
   "cell_type": "code",
   "execution_count": 45,
   "metadata": {},
   "outputs": [],
   "source": [
    "import os\n",
    "from PIL import Image\n",
    "import torch\n",
    "from torch.utils.data import Dataset\n",
    "from torchvision import transforms as T"
   ]
  },
  {
   "cell_type": "markdown",
   "metadata": {},
   "source": [
    "## Dataset"
   ]
  },
  {
   "cell_type": "code",
   "execution_count": 59,
   "metadata": {},
   "outputs": [],
   "source": [
    "class sr_dataset(Dataset):\n",
    "    def __init__(self, HR_path, LR_path):\n",
    "        \"\"\"\n",
    "        HR_path : path to high resolution path\n",
    "        LR_path : path to low resolution path\n",
    "        \n",
    "        \"\"\"\n",
    "        \n",
    "        self.HR_list = [os.path.join(HR_path, i) for i in os.listdir(HR_path) if i.endswith('.png')]\n",
    "        self.HR_list.sort()\n",
    "        \n",
    "\n",
    "        self.LR_list = [os.path.join(HR_path, i) for i in os.listdir(LR_path) if i.endswith('.png')]\n",
    "        self.LR_list.sort()\n",
    "    \n",
    "        \n",
    "    def __len__(self):\n",
    "        return len(self.HR_list)\n",
    "    \n",
    "    def __getitem__(self, idx):\n",
    "        HR = Image.open(self.HR_list[idx])\n",
    "        LR = Image.open(self.LR_list[idx])\n",
    "        \n",
    "    \n",
    "        return {'HR' : T.ToTensor()(HR), 'LR' : T.ToTensor()(LR)}\n",
    "        \n",
    " "
   ]
  },
  {
   "cell_type": "code",
   "execution_count": 60,
   "metadata": {},
   "outputs": [],
   "source": [
    "ds = sr_dataset(HR_path=HR, LR_path=HR)"
   ]
  },
  {
   "cell_type": "code",
   "execution_count": 61,
   "metadata": {},
   "outputs": [
    {
     "data": {
      "text/plain": [
       "20000"
      ]
     },
     "execution_count": 61,
     "metadata": {},
     "output_type": "execute_result"
    }
   ],
   "source": [
    "len(ds)"
   ]
  },
  {
   "cell_type": "code",
   "execution_count": 62,
   "metadata": {},
   "outputs": [
    {
     "data": {
      "text/plain": [
       "{'HR': tensor([[[0.2863, 0.3137, 0.3098,  ..., 0.2627, 0.2157, 0.2745],\n",
       "          [0.3137, 0.2784, 0.3020,  ..., 0.2549, 0.2471, 0.2510],\n",
       "          [0.2902, 0.2745, 0.2980,  ..., 0.2471, 0.2863, 0.2667],\n",
       "          ...,\n",
       "          [0.0431, 0.0353, 0.0275,  ..., 0.6549, 0.6471, 0.6549],\n",
       "          [0.0471, 0.0275, 0.0314,  ..., 0.6431, 0.6745, 0.6353],\n",
       "          [0.0431, 0.0627, 0.0392,  ..., 0.6431, 0.6549, 0.6235]],\n",
       " \n",
       "         [[0.1765, 0.2039, 0.1961,  ..., 0.1843, 0.1373, 0.2000],\n",
       "          [0.2039, 0.1686, 0.1882,  ..., 0.1765, 0.1725, 0.1765],\n",
       "          [0.1804, 0.1647, 0.1843,  ..., 0.1725, 0.2118, 0.1922],\n",
       "          ...,\n",
       "          [0.0275, 0.0196, 0.0118,  ..., 0.5373, 0.5294, 0.5373],\n",
       "          [0.0314, 0.0118, 0.0157,  ..., 0.5255, 0.5569, 0.5176],\n",
       "          [0.0275, 0.0471, 0.0235,  ..., 0.5255, 0.5373, 0.5059]],\n",
       " \n",
       "         [[0.1647, 0.2000, 0.2039,  ..., 0.1882, 0.1333, 0.1843],\n",
       "          [0.1922, 0.1647, 0.1961,  ..., 0.1725, 0.1569, 0.1529],\n",
       "          [0.1686, 0.1608, 0.1922,  ..., 0.1569, 0.1882, 0.1647],\n",
       "          ...,\n",
       "          [0.1176, 0.1098, 0.1020,  ..., 0.4431, 0.4353, 0.4431],\n",
       "          [0.1216, 0.1020, 0.1059,  ..., 0.4314, 0.4627, 0.4235],\n",
       "          [0.1176, 0.1373, 0.1137,  ..., 0.4314, 0.4431, 0.4118]]]),\n",
       " 'LR': tensor([[[0.2863, 0.3137, 0.3098,  ..., 0.2627, 0.2157, 0.2745],\n",
       "          [0.3137, 0.2784, 0.3020,  ..., 0.2549, 0.2471, 0.2510],\n",
       "          [0.2902, 0.2745, 0.2980,  ..., 0.2471, 0.2863, 0.2667],\n",
       "          ...,\n",
       "          [0.0431, 0.0353, 0.0275,  ..., 0.6549, 0.6471, 0.6549],\n",
       "          [0.0471, 0.0275, 0.0314,  ..., 0.6431, 0.6745, 0.6353],\n",
       "          [0.0431, 0.0627, 0.0392,  ..., 0.6431, 0.6549, 0.6235]],\n",
       " \n",
       "         [[0.1765, 0.2039, 0.1961,  ..., 0.1843, 0.1373, 0.2000],\n",
       "          [0.2039, 0.1686, 0.1882,  ..., 0.1765, 0.1725, 0.1765],\n",
       "          [0.1804, 0.1647, 0.1843,  ..., 0.1725, 0.2118, 0.1922],\n",
       "          ...,\n",
       "          [0.0275, 0.0196, 0.0118,  ..., 0.5373, 0.5294, 0.5373],\n",
       "          [0.0314, 0.0118, 0.0157,  ..., 0.5255, 0.5569, 0.5176],\n",
       "          [0.0275, 0.0471, 0.0235,  ..., 0.5255, 0.5373, 0.5059]],\n",
       " \n",
       "         [[0.1647, 0.2000, 0.2039,  ..., 0.1882, 0.1333, 0.1843],\n",
       "          [0.1922, 0.1647, 0.1961,  ..., 0.1725, 0.1569, 0.1529],\n",
       "          [0.1686, 0.1608, 0.1922,  ..., 0.1569, 0.1882, 0.1647],\n",
       "          ...,\n",
       "          [0.1176, 0.1098, 0.1020,  ..., 0.4431, 0.4353, 0.4431],\n",
       "          [0.1216, 0.1020, 0.1059,  ..., 0.4314, 0.4627, 0.4235],\n",
       "          [0.1176, 0.1373, 0.1137,  ..., 0.4314, 0.4431, 0.4118]]])}"
      ]
     },
     "execution_count": 62,
     "metadata": {},
     "output_type": "execute_result"
    }
   ],
   "source": [
    "ds[0]"
   ]
  },
  {
   "cell_type": "code",
   "execution_count": null,
   "metadata": {},
   "outputs": [],
   "source": []
  }
 ],
 "metadata": {
  "kernelspec": {
   "display_name": "Python 3",
   "language": "python",
   "name": "python3"
  },
  "language_info": {
   "codemirror_mode": {
    "name": "ipython",
    "version": 3
   },
   "file_extension": ".py",
   "mimetype": "text/x-python",
   "name": "python",
   "nbconvert_exporter": "python",
   "pygments_lexer": "ipython3",
   "version": "3.7.6"
  }
 },
 "nbformat": 4,
 "nbformat_minor": 4
}
