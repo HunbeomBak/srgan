{
 "cells": [
  {
   "cell_type": "code",
   "execution_count": 3,
   "metadata": {},
   "outputs": [],
   "source": [
    "import os\n",
    "from PIL import Image\n",
    "import torch\n",
    "from torch.utils.data import Dataset\n",
    "from torchvision import transforms as T"
   ]
  },
  {
   "cell_type": "markdown",
   "metadata": {},
   "source": [
    "## Dataset"
   ]
  },
  {
   "cell_type": "code",
   "execution_count": 4,
   "metadata": {},
   "outputs": [],
   "source": [
    "class sr_dataset(Dataset):\n",
    "    def __init__(self, HR_path, LR_path):\n",
    "        \"\"\"\n",
    "        HR_path : path to high resolution path\n",
    "        LR_path : path to low resolution path\n",
    "        \n",
    "        \"\"\"\n",
    "        \n",
    "        self.HR_list = [os.path.join(HR_path, i) for i in os.listdir(HR_path) if i.endswith('.png')]\n",
    "        self.HR_list.sort()\n",
    "        \n",
    "\n",
    "        self.LR_list = [os.path.join(HR_path, i) for i in os.listdir(LR_path) if i.endswith('.png')]\n",
    "        self.LR_list.sort()\n",
    "    \n",
    "        \n",
    "    def __len__(self):\n",
    "        return len(self.HR_list)\n",
    "    \n",
    "    def __getitem__(self, idx):\n",
    "        HR = Image.open(self.HR_list[idx])\n",
    "        LR = Image.open(self.LR_list[idx])\n",
    "        \n",
    "    \n",
    "        return {'HR' : T.ToTensor()(HR), \n",
    "                'LR' : T.ToTensor()(LR)}\n",
    "        \n",
    " "
   ]
  },
  {
   "cell_type": "code",
   "execution_count": null,
   "metadata": {},
   "outputs": [],
   "source": []
  },
  {
   "cell_type": "code",
   "execution_count": 5,
   "metadata": {},
   "outputs": [],
   "source": [
    "HR = '../data/CelebA-HQ_Dataset/Train/HQ_256x256/'\n",
    "LR = '../data/CelebA-HQ_Dataset/Train/HQ_32x32/'\n",
    "ds = sr_dataset(HR_path=HR, LR_path=HR)\n"
   ]
  },
  {
   "cell_type": "code",
   "execution_count": 6,
   "metadata": {},
   "outputs": [
    {
     "data": {
      "text/plain": [
       "10000"
      ]
     },
     "execution_count": 6,
     "metadata": {},
     "output_type": "execute_result"
    }
   ],
   "source": [
    "len(ds)"
   ]
  },
  {
   "cell_type": "code",
   "execution_count": null,
   "metadata": {},
   "outputs": [],
   "source": []
  }
 ],
 "metadata": {
  "kernelspec": {
   "display_name": "Python 3",
   "language": "python",
   "name": "python3"
  },
  "language_info": {
   "codemirror_mode": {
    "name": "ipython",
    "version": 3
   },
   "file_extension": ".py",
   "mimetype": "text/x-python",
   "name": "python",
   "nbconvert_exporter": "python",
   "pygments_lexer": "ipython3",
   "version": "3.7.6"
  }
 },
 "nbformat": 4,
 "nbformat_minor": 4
}
