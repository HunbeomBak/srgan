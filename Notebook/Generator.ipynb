{
 "cells": [
  {
   "cell_type": "code",
   "execution_count": 1,
   "metadata": {},
   "outputs": [],
   "source": [
    "import torch\n",
    "import torch.nn as nn"
   ]
  },
  {
   "cell_type": "code",
   "execution_count": 23,
   "metadata": {},
   "outputs": [],
   "source": [
    "class ResBlock(nn.Module):\n",
    "    def __init__(self):\n",
    "        super(ResBlock, self).__init__()\n",
    "        k3n64s1 = nn.Conv2d(in_channels=64, out_channels=64, kernel_size=3, stride=1, padding=3//2)\n",
    "        bn2d = nn.BatchNorm2d(num_features=64)\n",
    "        \n",
    "        self.block = nn.Sequential(\n",
    "            k3n64s1,\n",
    "            bn2d,\n",
    "            nn.PReLU(),\n",
    "            k3n64s1,\n",
    "            bn2d\n",
    "        )\n",
    "    \n",
    "    def forward(self, x):\n",
    "        identity = x\n",
    "        out = self.block(x)\n",
    "        out += identity\n",
    "        return out\n",
    "    \n",
    "class Upsampler(nn.Module):\n",
    "    def __init__(self):\n",
    "        super(Upsampler, self).__init__()\n",
    "        \n",
    "        self.upsample = nn.Sequential(\n",
    "            nn.Conv2d(in_channels=64, out_channels=256, kernel_size=3, stride=1, padding=3//2),\n",
    "            nn.PixelShuffle(2),\n",
    "            nn.PReLU()\n",
    "        )\n",
    "        \n",
    "    def forward(self, x):\n",
    "        x = self.upsample(x)\n",
    "        \n",
    "        return x\n",
    "    \n",
    "\n",
    "class Generator(nn.Module):\n",
    "    def __init__(self):\n",
    "        super(Generator, self).__init__()\n",
    "        B = 16\n",
    "        \n",
    "        self.conv1 = nn.Sequential(\n",
    "            nn.Conv2d(in_channels=3, out_channels=64, kernel_size=9, stride=1, padding=9//2),\n",
    "            nn.PReLU()\n",
    "        )\n",
    "        \n",
    "        block = [ResBlock() for _ in range(16)]\n",
    "        self.block = nn.Sequential(*block)\n",
    "        \n",
    "        self.conv2 =  nn.Sequential(\n",
    "            nn.Conv2d(in_channels=64, out_channels=64, kernel_size=3, stride=1, padding=3//2),\n",
    "            nn.BatchNorm2d(64)\n",
    "        )\n",
    "        \n",
    "        upsample = [Upsampler() for _ in range(3)]\n",
    "        self.upsample = nn.Sequential(*upsample)\n",
    "        \n",
    "        \n",
    "        self.conv3 = nn.Conv2d(in_channels=64, out_channels=3, kernel_size=9, stride=1, padding=9//2)\n",
    "        \n",
    "        \n",
    "    def forward(self,x):\n",
    "        x =x.permute(0, 3, 1, 2)\n",
    "        x = self.conv1(x)\n",
    "        x_res = x ##Residual\n",
    "        x = self.block(x)\n",
    "        x = self.conv2(x)\n",
    "        x += x_res\n",
    "        x = self.upsample(x)\n",
    "        x = self.conv3(x)\n",
    "        \n",
    "        return x"
   ]
  },
  {
   "cell_type": "code",
   "execution_count": 24,
   "metadata": {},
   "outputs": [],
   "source": [
    "G = Generator()"
   ]
  },
  {
   "cell_type": "code",
   "execution_count": 25,
   "metadata": {},
   "outputs": [
    {
     "name": "stdout",
     "output_type": "stream",
     "text": [
      "torch.Size([1, 32, 32, 3])\n",
      "torch.Size([1, 3, 256, 256])\n"
     ]
    }
   ],
   "source": [
    "input_x = torch.rand(1,32,32,3)\n",
    "print(input_x.shape)\n",
    "\n",
    "xx = G(input_x)\n",
    "print(xx.size())"
   ]
  },
  {
   "cell_type": "code",
   "execution_count": null,
   "metadata": {},
   "outputs": [],
   "source": []
  }
 ],
 "metadata": {
  "kernelspec": {
   "display_name": "Python 3",
   "language": "python",
   "name": "python3"
  },
  "language_info": {
   "codemirror_mode": {
    "name": "ipython",
    "version": 3
   },
   "file_extension": ".py",
   "mimetype": "text/x-python",
   "name": "python",
   "nbconvert_exporter": "python",
   "pygments_lexer": "ipython3",
   "version": "3.7.6"
  }
 },
 "nbformat": 4,
 "nbformat_minor": 4
}
