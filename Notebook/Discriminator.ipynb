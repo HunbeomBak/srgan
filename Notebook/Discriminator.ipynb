{
 "cells": [
  {
   "cell_type": "code",
   "execution_count": 1,
   "metadata": {},
   "outputs": [],
   "source": [
    "import torch\n",
    "import torch.nn as nn"
   ]
  },
  {
   "cell_type": "code",
   "execution_count": 2,
   "metadata": {},
   "outputs": [],
   "source": [
    "class ConvBlock(nn.Module):\n",
    "    def __init__(self, k, in_n, out_n, s):\n",
    "        super(ConvBlock, self).__init__()\n",
    "        \n",
    "        self.Conv_block = nn.Sequential(\n",
    "            nn.Conv2d(in_channels=in_n, out_channels=out_n, kernel_size=k, stride=s, padding=k//2),\n",
    "            nn.BatchNorm2d(out_n),\n",
    "            nn.LeakyReLU())\n",
    "        \n",
    "    def forward(self, x):\n",
    "        out = self.Conv_block(x)\n",
    "        return out\n",
    "        \n",
    "\n",
    "class Discriminator(nn.Module):\n",
    "    def __init__(self):\n",
    "        super(Discriminator, self).__init__()\n",
    "        \n",
    "        self.conv1 = nn.Sequential(\n",
    "            nn.Conv2d(in_channels=3, out_channels=64, kernel_size=3, stride=1),\n",
    "            nn.LeakyReLU()\n",
    "        )\n",
    "        \n",
    "        conv = []\n",
    "        conv.append(ConvBlock(k=3, in_n=64, out_n=64, s=2))\n",
    "        conv.append(ConvBlock(k=3, in_n=64, out_n=128, s=1))\n",
    "        conv.append(ConvBlock(k=3, in_n=128, out_n=128, s=2))\n",
    "        conv.append(ConvBlock(k=3, in_n=128, out_n=256, s=1))\n",
    "        conv.append(ConvBlock(k=3, in_n=256, out_n=256, s=2))\n",
    "        conv.append(ConvBlock(k=3, in_n=256, out_n=512, s=1))\n",
    "        conv.append(ConvBlock(k=3, in_n=512, out_n=512, s=2))\n",
    "    \n",
    "        self.conv2 = nn.Sequential(*conv)\n",
    "        \n",
    "        \n",
    "        patch_size = 256\n",
    "        num_of_block = 3\n",
    "        n_feats = 64\n",
    "\n",
    "        self.linear_size=((patch_size // (2 ** (num_of_block + 1))) ** 2) * (n_feats * (2 ** num_of_block))\n",
    "        \n",
    "        self.classfier = nn.Sequential(\n",
    "            nn.Linear(self.linear_size, 1024),\n",
    "            nn.LeakyReLU(),\n",
    "            nn.Linear(1024,1),\n",
    "            nn.Sigmoid()\n",
    "        )\n",
    "        \n",
    "        \n",
    "    def forward(self, x):\n",
    "        out = self.conv1(x)\n",
    "        out = self.conv2(out)\n",
    "        out = out.view(-1,self.linear_size)\n",
    "        out = self.classfier(out)\n",
    "        \n",
    "        return out"
   ]
  },
  {
   "cell_type": "code",
   "execution_count": 3,
   "metadata": {},
   "outputs": [],
   "source": [
    "D = Discriminator()"
   ]
  },
  {
   "cell_type": "code",
   "execution_count": 4,
   "metadata": {},
   "outputs": [
    {
     "data": {
      "text/plain": [
       "torch.Size([1, 3, 256, 256])"
      ]
     },
     "execution_count": 4,
     "metadata": {},
     "output_type": "execute_result"
    }
   ],
   "source": [
    "x = torch.rand(1,3,256,256)\n",
    "x.size()"
   ]
  },
  {
   "cell_type": "code",
   "execution_count": 5,
   "metadata": {},
   "outputs": [
    {
     "data": {
      "text/plain": [
       "torch.Size([1, 1])"
      ]
     },
     "execution_count": 5,
     "metadata": {},
     "output_type": "execute_result"
    }
   ],
   "source": [
    "y =D(x)\n",
    "y.size()"
   ]
  }
 ],
 "metadata": {
  "kernelspec": {
   "display_name": "Python 3",
   "language": "python",
   "name": "python3"
  },
  "language_info": {
   "codemirror_mode": {
    "name": "ipython",
    "version": 3
   },
   "file_extension": ".py",
   "mimetype": "text/x-python",
   "name": "python",
   "nbconvert_exporter": "python",
   "pygments_lexer": "ipython3",
   "version": "3.7.6"
  }
 },
 "nbformat": 4,
 "nbformat_minor": 4
}
