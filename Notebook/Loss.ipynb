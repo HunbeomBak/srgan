{
 "cells": [
  {
   "cell_type": "code",
   "execution_count": 1,
   "metadata": {},
   "outputs": [],
   "source": [
    "## Setting import from parent directory\n",
    "\n",
    "import os\n",
    "import sys\n",
    "module_path = os.path.abspath(os.path.join('..'))\n",
    "if module_path not in sys.path:\n",
    "    sys.path.append(module_path)"
   ]
  },
  {
   "cell_type": "code",
   "execution_count": 2,
   "metadata": {},
   "outputs": [],
   "source": [
    "import torch\n",
    "import torch.nn as nn\n",
    "import torchvision.models as models\n",
    "\n",
    "\n",
    "from models.Generator import Generator\n",
    "from models.Discriminator import Discriminator"
   ]
  },
  {
   "cell_type": "code",
   "execution_count": 3,
   "metadata": {},
   "outputs": [],
   "source": [
    "class Content_loss(nn.Module):\n",
    "    def __init__(self):\n",
    "        super(Content_loss,self).__init__()\n",
    "        \n",
    "        vgg = models.vgg19(pretrained=True)\n",
    "        #vgg.eval()\n",
    "        self.feature = nn.Sequential(*list(vgg.features.children())[:-1])\n",
    "        self.feature.eval()\n",
    "        self.MSE = nn.MSELoss()\n",
    "        \n",
    "    def forward(self, HR, SR):\n",
    "        HR_feature = self.feature(HR)\n",
    "        SR_feature = self.feature(SR)\n",
    "        loss  = self.MSE(HR_feature, SR_feature)\n",
    "        return loss.sum()\n",
    "    \n",
    "class Adversarial_loss(nn.Module):\n",
    "    def __init__(self):\n",
    "        super(Adversarial_loss,self).__init__()\n",
    "        #self.D = Discriminator()\n",
    "        \n",
    "    def forward(self, D_SR):\n",
    "        loss=-torch.log10(D_SR)\n",
    "        \n",
    "        return loss.sum()\n",
    "\n",
    "    \n",
    "class Perceptual_loss(nn.Module):\n",
    "    def __init__(self):\n",
    "        super(Perceptual_loss,self).__init__()\n",
    "        self.content_loss = Content_loss()\n",
    "        self.adversarial_loss = Adversarial_loss()\n",
    "    def forward(self, HR, SR, D_SR):\n",
    "        loss = self.content_loss(HR, SR) + 10**-3 * self.adversarial_loss(D_SR)\n",
    "        return loss\n",
    "        "
   ]
  },
  {
   "cell_type": "markdown",
   "metadata": {},
   "source": [
    "## Input"
   ]
  },
  {
   "cell_type": "code",
   "execution_count": 4,
   "metadata": {},
   "outputs": [],
   "source": [
    "G = Generator()\n",
    "D = Discriminator()"
   ]
  },
  {
   "cell_type": "code",
   "execution_count": 5,
   "metadata": {},
   "outputs": [
    {
     "name": "stdout",
     "output_type": "stream",
     "text": [
      "torch.Size([5, 3, 256, 256])\n",
      "torch.Size([5, 3, 256, 256])\n"
     ]
    }
   ],
   "source": [
    "HR = torch.rand(5,3,256,256)\n",
    "print(HR.shape)\n",
    "SR = G(torch.rand(5,32,32,3))\n",
    "print(SR.shape)"
   ]
  },
  {
   "cell_type": "markdown",
   "metadata": {},
   "source": [
    "## loss\n",
    "### content_loss"
   ]
  },
  {
   "cell_type": "code",
   "execution_count": 6,
   "metadata": {},
   "outputs": [],
   "source": [
    "c_loss = Content_loss()"
   ]
  },
  {
   "cell_type": "code",
   "execution_count": 7,
   "metadata": {},
   "outputs": [
    {
     "data": {
      "text/plain": [
       "tensor(0.0160, grad_fn=<SumBackward0>)"
      ]
     },
     "execution_count": 7,
     "metadata": {},
     "output_type": "execute_result"
    }
   ],
   "source": [
    "loss1 = c_loss(HR, SR)\n",
    "loss1"
   ]
  },
  {
   "cell_type": "markdown",
   "metadata": {},
   "source": [
    "### adversarial_loss"
   ]
  },
  {
   "cell_type": "code",
   "execution_count": 8,
   "metadata": {},
   "outputs": [],
   "source": [
    "a_loss = Adversarial_loss()"
   ]
  },
  {
   "cell_type": "code",
   "execution_count": 9,
   "metadata": {},
   "outputs": [
    {
     "data": {
      "text/plain": [
       "tensor(1.6655, grad_fn=<SumBackward0>)"
      ]
     },
     "execution_count": 9,
     "metadata": {},
     "output_type": "execute_result"
    }
   ],
   "source": [
    "loss2 = a_loss(D(SR))\n",
    "loss2"
   ]
  },
  {
   "cell_type": "markdown",
   "metadata": {},
   "source": [
    "### Perceptual_loss"
   ]
  },
  {
   "cell_type": "code",
   "execution_count": 10,
   "metadata": {},
   "outputs": [],
   "source": [
    "p = Perceptual_loss()"
   ]
  },
  {
   "cell_type": "code",
   "execution_count": 11,
   "metadata": {},
   "outputs": [
    {
     "data": {
      "text/plain": [
       "tensor(0.0177, grad_fn=<AddBackward0>)"
      ]
     },
     "execution_count": 11,
     "metadata": {},
     "output_type": "execute_result"
    }
   ],
   "source": [
    "p(HR, SR, D(SR))"
   ]
  },
  {
   "cell_type": "code",
   "execution_count": null,
   "metadata": {},
   "outputs": [],
   "source": []
  }
 ],
 "metadata": {
  "kernelspec": {
   "display_name": "Python 3",
   "language": "python",
   "name": "python3"
  },
  "language_info": {
   "codemirror_mode": {
    "name": "ipython",
    "version": 3
   },
   "file_extension": ".py",
   "mimetype": "text/x-python",
   "name": "python",
   "nbconvert_exporter": "python",
   "pygments_lexer": "ipython3",
   "version": "3.7.6"
  }
 },
 "nbformat": 4,
 "nbformat_minor": 4
}
